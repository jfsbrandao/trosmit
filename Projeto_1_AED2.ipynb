{
  "nbformat": 4,
  "nbformat_minor": 0,
  "metadata": {
    "colab": {
      "name": "Projeto 1 - AED2.ipynb",
      "provenance": [],
      "collapsed_sections": [
        "UA-2Fpu3x42S",
        "4hlx-N5WK69x",
        "M2_j2QW7bhoS",
        "5nCPDTF7eHWQ",
        "nU39M4UIT6k_",
        "Hg5_yswaz0Wm"
      ]
    },
    "kernelspec": {
      "name": "python3",
      "display_name": "Python 3"
    },
    "language_info": {
      "name": "python"
    }
  },
  "cells": [
    {
      "cell_type": "markdown",
      "metadata": {
        "id": "UA-2Fpu3x42S"
      },
      "source": [
        "#**Lendo** os arquivos do grupo G1,G2,G3:"
      ]
    },
    {
      "cell_type": "code",
      "metadata": {
        "id": "GPdW8pHYqNKp"
      },
      "source": [
        "'GRUPO 1'\n",
        "\n",
        "g1_10 =  []\n",
        "with open('G1-10','r') as arquivo:\n",
        "  for valor in arquivo:\n",
        "    valor = valor.rstrip('\\n')\n",
        "    g1_10.append(int(valor))\n",
        "\n",
        "g1_1_10 = g1_10[:]\n",
        "g1_M1_10 = g1_10[:]\n",
        "g1_P1_10 = g1_10[:]\n",
        "\n",
        "g1_100 =  []\n",
        "with open('G1-100','r') as arquivo:\n",
        "  for valor in arquivo:\n",
        "    valor = valor.rstrip('\\n')\n",
        "    g1_100.append(int(valor))\n",
        "\n",
        "g1_1_100 = g1_100[:]\n",
        "g1_M1_100 = g1_100[:]\n",
        "g1_P1_100 = g1_100[:]\n",
        "\n",
        "g1_10000 =  []\n",
        "with open('G1-10000','r') as arquivo:\n",
        "  for valor in arquivo:\n",
        "    valor = valor.rstrip('\\n')\n",
        "    g1_10000.append(int(valor))\n",
        "\n",
        "g1_1_10000 = g1_10000[:]\n",
        "g1_M1_10000 = g1_10000[:]\n",
        "g1_P1_10000 = g1_10000[:]\n",
        "\n",
        "\n",
        "g1_100000 =  []\n",
        "with open('G1-100000','r') as arquivo:\n",
        "  for valor in arquivo:\n",
        "    valor = valor.rstrip('\\n')\n",
        "    g1_100000.append(int(valor))\n",
        "\n",
        "g1_1_100000 = g1_100000[:]\n",
        "g1_M1_100000 = g1_100000[:]\n",
        "g1_P1_100000 = g1_100000[:]\n",
        "\n",
        "g1_1000000 =  []\n",
        "with open('G1-1000000','r') as arquivo:\n",
        "  for valor in arquivo:\n",
        "    valor = valor.rstrip('\\n')\n",
        "    g1_1000000.append(int(valor))\n",
        "\n",
        "g1_1_1000000 = g1_1000000[:]\n",
        "g1_M1_1000000 = g1_1000000[:]\n",
        "g1_P1_1000000 = g1_1000000[:]\n",
        "\n",
        "'GRUPO 2'\n",
        "\n",
        "g2_10 =  []\n",
        "with open('G2-10','r') as arquivo:\n",
        "  for valor in arquivo:\n",
        "    valor = valor.rstrip('\\n')\n",
        "    g2_10.append(int(valor))\n",
        "\n",
        "g2_1_10 = g2_10[:]\n",
        "g2_M1_10 = g2_10[:]\n",
        "g2_P1_10 = g2_10[:]\n",
        "\n",
        "g2_100 =  []\n",
        "with open('G2-100','r') as arquivo:\n",
        "  for valor in arquivo:\n",
        "    valor = valor.rstrip('\\n')\n",
        "    g2_100.append(int(valor))\n",
        "\n",
        "g2_1_100 = g2_100[:]\n",
        "g2_M1_100 = g2_100[:]\n",
        "g2_P1_100 = g2_100[:]\n",
        "\n",
        "\n",
        "g2_10000 =  []\n",
        "with open('G2-10000','r') as arquivo:\n",
        "  for valor in arquivo:\n",
        "    valor = valor.rstrip('\\n')\n",
        "    g2_10000.append(int(valor))\n",
        "\n",
        "g2_1_10000 = g2_10000[:]\n",
        "g2_M1_10000 = g2_10000[:]\n",
        "g2_P1_10000 = g2_10000[:]\n",
        "\n",
        "g2_100000 =  []\n",
        "with open('G2-100000','r') as arquivo:\n",
        "  for valor in arquivo:\n",
        "    valor = valor.rstrip('\\n')\n",
        "    g2_100000.append(int(valor))\n",
        "\n",
        "g2_1_100000 = g2_100000[:]\n",
        "g2_M1_100000 = g2_100000[:]\n",
        "g2_P1_100000 = g2_100000[:]\n",
        "\n",
        "g2_1000000 =  []\n",
        "with open('G2-1000000','r') as arquivo:\n",
        "  for valor in arquivo:\n",
        "    valor = valor.rstrip('\\n')\n",
        "    g2_1000000.append(int(valor))\n",
        "\n",
        "g2_1_1000000 = g2_1000000[:]\n",
        "g2_M1_1000000 = g2_1000000[:]\n",
        "g2_P1_1000000 = g2_1000000[:]\n",
        "\n",
        "\n",
        "'GRUPO 3'\n",
        "\n",
        "g3_10 =  []\n",
        "with open('G3-10','r') as arquivo:\n",
        "  for valor in arquivo:\n",
        "    valor = valor.rstrip('\\n')\n",
        "    g3_10.append(int(valor))\n",
        "\n",
        "g3_1_10 = g3_10[:]\n",
        "g3_M1_10 = g3_10[:]\n",
        "g3_P1_10 = g3_10[:]\n",
        "\n",
        "g3_100 =  []\n",
        "with open('G3-100','r') as arquivo:\n",
        "  for valor in arquivo:\n",
        "    valor = valor.rstrip('\\n')\n",
        "    g3_100.append(int(valor))\n",
        "\n",
        "g3_1_100 = g3_100[:]\n",
        "g3_M1_100 = g3_100[:]\n",
        "g3_P1_100 = g3_100[:]\n",
        "\n",
        "g3_10000 =  []\n",
        "with open('G3-10000','r') as arquivo:\n",
        "  for valor in arquivo:\n",
        "    valor = valor.rstrip('\\n')\n",
        "    g3_10000.append(int(valor))\n",
        "\n",
        "g3_1_10000 = g3_10000[:]\n",
        "g3_M1_10000 = g3_10000[:]\n",
        "g3_P1_10000 = g3_10000[:]\n",
        "\n",
        "g3_100000 =  []\n",
        "with open('G3-100000','r') as arquivo:\n",
        "  for valor in arquivo:\n",
        "    valor = valor.rstrip('\\n')\n",
        "    g3_100000.append(int(valor))\n",
        "\n",
        "g3_1_100000 = g3_100000[:]\n",
        "g3_M1_100000 = g3_100000[:]\n",
        "g3_P1_100000 = g3_100000[:]\n",
        "\n",
        "g3_1000000 =  []\n",
        "with open('G3-1000000','r') as arquivo:\n",
        "  for valor in arquivo:\n",
        "    valor = valor.rstrip('\\n')\n",
        "    g3_1000000.append(int(valor))\n",
        "\n",
        "g3_1_1000000 = g3_1000000[:]\n",
        "g3_M1_1000000 = g3_1000000[:]\n",
        "g3_P1_1000000 = g3_1000000[:]"
      ],
      "execution_count": null,
      "outputs": []
    },
    {
      "cell_type": "markdown",
      "metadata": {
        "id": "MtI_j2kv2SIm"
      },
      "source": [
        "Função para criar arquivos:"
      ]
    },
    {
      "cell_type": "code",
      "metadata": {
        "id": "sBKU0fXQ2WGn"
      },
      "source": [
        "def criaArquivo(lista,nome):\n",
        "    arquivo = open(f'{nome}.txt', \"a\")\n",
        "    t = len(lista)\n",
        "\n",
        "    for i in range(0,t):\n",
        "        frases = list()\n",
        "        frases.append(str(lista[i]))\n",
        "        frases.append('\\n')\n",
        "        arquivo.writelines(frases)\n"
      ],
      "execution_count": null,
      "outputs": []
    },
    {
      "cell_type": "markdown",
      "metadata": {
        "id": "4hlx-N5WK69x"
      },
      "source": [
        "#Usando o Método SORT:"
      ]
    },
    {
      "cell_type": "code",
      "metadata": {
        "id": "i1fA7fxrLAOr"
      },
      "source": [
        "import time\n",
        "\n",
        "'GRUPO G1'\n",
        "\n",
        "inicio1_1 = time.time()\n",
        "g1_10.sort()\n",
        "fim1_1 = time.time()\n",
        "\n",
        "g1a = fim1_1 - inicio1_1\n",
        "\n",
        "inicio2_1 = time.time()\n",
        "g1_100.sort()\n",
        "fim2_1 = time.time()\n",
        "\n",
        "g1b = fim2_1 - inicio2_1\n",
        "\n",
        "inicio3_1 = time.time()\n",
        "g1_10000.sort()\n",
        "fim3_1 = time.time()\n",
        "\n",
        "g1c = fim3_1 - inicio3_1\n",
        "\n",
        "inicio4_1 = time.time()\n",
        "g1_100000.sort()\n",
        "fim4_1 = time.time()\n",
        "\n",
        "g1d = fim4_1 - inicio4_1\n",
        "\n",
        "inicio5_1 = time.time()\n",
        "g1_1000000.sort()\n",
        "fim5_1 = time.time()\n",
        "\n",
        "g1e = fim5_1 - inicio5_1\n",
        "\n",
        "'GRUPO G2'\n",
        "\n",
        "inicio1_2 = time.time()\n",
        "g2_10.sort()\n",
        "fim1_2 = time.time()\n",
        "\n",
        "g2a = fim1_2 - inicio1_2\n",
        "\n",
        "inicio2_2 = time.time()\n",
        "g2_100.sort()\n",
        "fim2_2 = time.time()\n",
        "\n",
        "g2b = fim2_2 - inicio2_2\n",
        "\n",
        "inicio3_2 = time.time()\n",
        "g2_10000.sort()\n",
        "fim3_2 = time.time()\n",
        "\n",
        "g2c = fim3_2 - inicio3_2\n",
        "\n",
        "inicio4_2 = time.time()\n",
        "g2_100000.sort()\n",
        "fim4_2 = time.time()\n",
        "\n",
        "g2d = fim4_2 - inicio4_2\n",
        "\n",
        "inicio5_2 = time.time()\n",
        "g2_1000000.sort()\n",
        "fim5_2 = time.time()\n",
        "\n",
        "g2e = fim5_2 - inicio5_2\n",
        "\n",
        "'GRUPO G3'\n",
        "\n",
        "inicio1_3 = time.time()\n",
        "g3_10.sort()\n",
        "fim1_3 = time.time()\n",
        "\n",
        "g3a = fim1_3 - inicio1_3\n",
        "\n",
        "inicio2_3 = time.time()\n",
        "g3_100.sort()\n",
        "fim2_3 = time.time()\n",
        "\n",
        "g3b = fim2_3 - inicio2_3\n",
        "\n",
        "inicio3_3 = time.time()\n",
        "g3_10000.sort()\n",
        "fim3_3 = time.time()\n",
        "\n",
        "g3c = fim3_3 - inicio3_3\n",
        "\n",
        "inicio4_3 = time.time()\n",
        "g3_100000.sort()\n",
        "fim4_3 = time.time()\n",
        "\n",
        "g3d = fim4_3 - inicio4_3\n",
        "\n",
        "inicio5_3 = time.time()\n",
        "g3_1000000.sort()\n",
        "fim5_3 = time.time()\n",
        "\n",
        "g3e = fim5_3 - inicio5_3"
      ],
      "execution_count": null,
      "outputs": []
    },
    {
      "cell_type": "markdown",
      "metadata": {
        "id": "MeBO3gYY5tJ9"
      },
      "source": [
        "Criando os arquivos organizados do SORT;"
      ]
    },
    {
      "cell_type": "code",
      "metadata": {
        "id": "aGedgk9G5x_w"
      },
      "source": [
        "criaArquivo(g1_10,'g1_10(sort)')\n",
        "criaArquivo(g1_100,'g1_100(sort)')\n",
        "criaArquivo(g1_10000,'g1_10000(sort)')\n",
        "criaArquivo(g1_100000,'g1_100000(sort)')\n",
        "criaArquivo(g1_1000000,'g1_1000000(sort)')\n",
        "criaArquivo(g2_10,'g2_10(sort)')\n",
        "criaArquivo(g2_100,'g2_100(sort)')\n",
        "criaArquivo(g2_10000,'g2_10000(sort)')\n",
        "criaArquivo(g2_100000,'g2_100000(sort)')\n",
        "criaArquivo(g2_1000000,'g2_1000000(sort)')\n",
        "criaArquivo(g3_10,'g3_10(sort)')\n",
        "criaArquivo(g3_100,'g3_100(sort)')\n",
        "criaArquivo(g3_10000,'g3_10000(sort)')\n",
        "criaArquivo(g3_100000,'g3_100000(sort)')\n",
        "criaArquivo(g3_1000000,'g3_1000000(sort)')"
      ],
      "execution_count": null,
      "outputs": []
    },
    {
      "cell_type": "markdown",
      "metadata": {
        "id": "M2_j2QW7bhoS"
      },
      "source": [
        "#Usando o Método de Inserção:"
      ]
    },
    {
      "cell_type": "code",
      "metadata": {
        "id": "HNUcjoJkboo8",
        "colab": {
          "base_uri": "https://localhost:8080/",
          "height": 35
        },
        "outputId": "10077cc3-8233-4473-c68d-915a35b321bb"
      },
      "source": [
        "import time\n",
        "\n",
        "def insercao(lista):\n",
        "  for i in range(1,len(lista)):\n",
        "    posicao = lista[i]\n",
        "    posant = i - 1\n",
        "    while((posant >= 0) and (lista[posant]>posicao)):\n",
        "      lista[posant+1]=lista[posant]\n",
        "      posant-=1\n",
        "    lista[posant+1]=posicao\n",
        "\n",
        "\n",
        "inicio1_1 = time.time()\n",
        "insercao(g1_1_10)\n",
        "fim1_1 = time.time()\n",
        "\n",
        "g1f = fim1_1 - inicio1_1\n",
        "\n",
        "inicio1_2 = time.time()\n",
        "insercao(g1_1_100)\n",
        "fim1_2 = time.time()\n",
        "\n",
        "g1g = fim1_2 - inicio1_2\n",
        "\n",
        "inicio1_3 = time.time()\n",
        "insercao(g1_1_10000)\n",
        "fim1_3 = time.time()\n",
        "\n",
        "g1h = fim1_3 - inicio1_3\n",
        "\n",
        "\n",
        "inicio1_4 = time.time()\n",
        "insercao(g1_1_100000)\n",
        "fim1_4 = time.time()\n",
        "\n",
        "g1i = fim1_4 - inicio1_4\n",
        "\n",
        "'''inicio1_5 = time.time()\n",
        "insercao(g1_1_1000000)\n",
        "fim1_5 = time.time()\n",
        "\n",
        "g1j = fim1_5 - inicio1_5'''\n",
        "'GRUPO 2'\n",
        "\n",
        "inicio2_1 = time.time()\n",
        "insercao(g2_1_10)\n",
        "fim2_1 = time.time()\n",
        "\n",
        "g2f = fim2_1 - inicio2_1\n",
        "\n",
        "inicio2_2 = time.time()\n",
        "insercao(g2_1_100)\n",
        "fim2_2 = time.time()\n",
        "\n",
        "g2g = fim2_2 - inicio2_2\n",
        "\n",
        "inicio2_3 = time.time()\n",
        "insercao(g2_1_10000)\n",
        "fim2_3 = time.time()\n",
        "\n",
        "g2h = fim2_3 - inicio2_3\n",
        "\n",
        "inicio2_4 = time.time()\n",
        "insercao(g2_1_100000)\n",
        "fim2_4 = time.time()\n",
        "\n",
        "g2i = fim2_4 - inicio2_4\n",
        "\n",
        "inicio2_5 = time.time()\n",
        "insercao(g2_1_1000000)\n",
        "fim2_5 = time.time()\n",
        "\n",
        "g2j = fim2_5 - inicio2_5\n",
        "\n",
        "'GRUPO 3'\n",
        "\n",
        "inicio3_1 = time.time()\n",
        "insercao(g3_1_10)\n",
        "fim3_1 = time.time()\n",
        "\n",
        "g3f = fim3_1 - inicio3_1\n",
        "\n",
        "inicio3_2 = time.time()\n",
        "insercao(g3_1_100)\n",
        "fim3_2 = time.time()\n",
        "\n",
        "g3g = fim3_2 - inicio3_2\n",
        "\n",
        "inicio3_3 = time.time()\n",
        "insercao(g3_1_10000)\n",
        "fim3_3 = time.time()\n",
        "\n",
        "g3h = fim3_3 - inicio3_3\n",
        "\n",
        "inicio3_4 = time.time()\n",
        "insercao(g3_1_100000)\n",
        "fim3_4 = time.time()\n",
        "\n",
        "g3i = fim3_4 - inicio3_4\n",
        "\n",
        "'''inicio3_5 = time.time()\n",
        "insercao(g3_1_1000000)\n",
        "fim3_5 = time.time()\n",
        "\n",
        "g3j = fim3_5 - inicio3_5'''"
      ],
      "execution_count": null,
      "outputs": [
        {
          "output_type": "execute_result",
          "data": {
            "application/vnd.google.colaboratory.intrinsic+json": {
              "type": "string"
            },
            "text/plain": [
              "'inicio3_5 = time.time()\\ninsercao(g3_1_1000000)\\nfim3_5 = time.time()\\n\\ng3j = fim3_5 - inicio3_5'"
            ]
          },
          "metadata": {
            "tags": []
          },
          "execution_count": 5
        }
      ]
    },
    {
      "cell_type": "markdown",
      "metadata": {
        "id": "BQe19pjE73NY"
      },
      "source": [
        "Criando os arquivos ordenados com Insertion:"
      ]
    },
    {
      "cell_type": "code",
      "metadata": {
        "id": "lpSuWVoa77oO"
      },
      "source": [
        "criaArquivo(g1_1_10,'g1_10(insertion)')\n",
        "criaArquivo(g1_1_100,'g1_100(insertion)')\n",
        "criaArquivo(g1_1_10000,'g1_10000(insertion)')\n",
        "criaArquivo(g1_1_100000,'g1_100000(insertion)')\n",
        "criaArquivo(g1_1_1000000,'g1_1000000(insertion)')\n",
        "criaArquivo(g2_1_10,'g2_10(insertion)')\n",
        "criaArquivo(g2_1_100,'g2_100(insertion)')\n",
        "criaArquivo(g2_1_10000,'g2_10000(insertion)')\n",
        "criaArquivo(g2_1_100000,'g2_100000(insertion)')\n",
        "criaArquivo(g2_1_1000000,'g2_1000000(insertion)')\n",
        "criaArquivo(g3_1_10,'g3_10(insertion)')\n",
        "criaArquivo(g3_1_100,'g3_100(insertion)')\n",
        "criaArquivo(g3_1_10000,'g3_10000(insertion)')\n",
        "criaArquivo(g3_1_100000,'g3_100000(insertion)')\n",
        "criaArquivo(g3_1_1000000,'g3_1000000(insertion)')"
      ],
      "execution_count": null,
      "outputs": []
    },
    {
      "cell_type": "markdown",
      "metadata": {
        "id": "5nCPDTF7eHWQ"
      },
      "source": [
        "#Usando Merge Sort:"
      ]
    },
    {
      "cell_type": "code",
      "metadata": {
        "id": "d2toxH7rb0nd"
      },
      "source": [
        "def merge(lista):\n",
        "    if len(lista)>1:\n",
        "        esquerda = lista[:len(lista)//2]\n",
        "        direita = lista[len(lista)//2:]\n",
        "        merge(esquerda)\n",
        "        merge(direita)\n",
        "        topoesquerdo = 0\n",
        "        topodireito = 0\n",
        "        posicaolista = 0\n",
        "        while ((topoesquerdo < len(esquerda)) and (topodireito < len(direita))):\n",
        "            if (esquerda[topoesquerdo] < direita[topodireito]):\n",
        "                lista[posicaolista] = esquerda[topoesquerdo]\n",
        "                topoesquerdo = topoesquerdo+1\n",
        "            else:\n",
        "                lista[posicaolista] = direita[topodireito]\n",
        "                topodireito = topodireito+1\n",
        "            posicaolista = posicaolista+1\n",
        "        while (topoesquerdo < len(esquerda)):\n",
        "            lista[posicaolista] = esquerda[topoesquerdo]\n",
        "            topoesquerdo = topoesquerdo+1\n",
        "            posicaolista = posicaolista+1\n",
        "        while (topodireito < len(direita)):\n",
        "            lista[posicaolista] = direita[topodireito]\n",
        "            topodireito = topodireito+1\n",
        "            posicaolista = posicaolista+1"
      ],
      "execution_count": null,
      "outputs": []
    },
    {
      "cell_type": "markdown",
      "metadata": {
        "id": "2Fn5hcsFMtDq"
      },
      "source": [
        "Ordenando listas desordenadas com MergeSort"
      ]
    },
    {
      "cell_type": "code",
      "metadata": {
        "id": "k0bnohhQMyTQ"
      },
      "source": [
        "import time\n",
        "\n",
        "iniciom110 = time.time()\n",
        "merge(g1_M1_10)\n",
        "fimm110 = time.time()\n",
        "\n",
        "g1k = fimm110 - iniciom110\n",
        "\n",
        "iniciom1100 = time.time()\n",
        "merge(g1_M1_100)\n",
        "fimm1100 = time.time()\n",
        "\n",
        "g1l = fimm1100 - iniciom1100\n",
        "\n",
        "iniciom110000 = time.time()\n",
        "merge(g1_M1_10000)\n",
        "fimm110000 = time.time()\n",
        "\n",
        "g1m = fimm110000 - iniciom110000\n",
        "\n",
        "iniciom1100000 = time.time()\n",
        "merge(g1_M1_100000)\n",
        "fimm1100000 = time.time()\n",
        "\n",
        "g1n = fimm1100000 - iniciom1100000\n",
        "\n",
        "iniciom11000000 = time.time()\n",
        "merge(g1_M1_1000000)\n",
        "fimm11000000 = time.time()\n",
        "\n",
        "g1o = fimm11000000 - iniciom11000000"
      ],
      "execution_count": null,
      "outputs": []
    },
    {
      "cell_type": "markdown",
      "metadata": {
        "id": "RSw8O5phOKy-"
      },
      "source": [
        "Ordenando listas ordenadas com MergeSort"
      ]
    },
    {
      "cell_type": "code",
      "metadata": {
        "id": "SoxTiVfEOKiC"
      },
      "source": [
        "import time\n",
        "\n",
        "iniciom210 = time.time()\n",
        "merge(g2_M1_10)\n",
        "fimm210 = time.time()\n",
        "\n",
        "g2k = fimm210 - iniciom210\n",
        "\n",
        "iniciom2100 = time.time()\n",
        "merge(g2_M1_100)\n",
        "fimm2100 = time.time()\n",
        "\n",
        "g2l = fimm2100 - iniciom2100\n",
        "\n",
        "iniciom210000 = time.time()\n",
        "merge(g2_M1_10000)\n",
        "fimm210000 = time.time()\n",
        "\n",
        "g2m = fimm210000 - iniciom210000\n",
        "\n",
        "iniciom2100000 = time.time()\n",
        "merge(g2_M1_100000)\n",
        "fimm2100000 = time.time()\n",
        "\n",
        "g2n = fimm2100000 - iniciom2100000\n",
        "\n",
        "iniciom21000000 = time.time()\n",
        "merge(g2_M1_1000000)\n",
        "fimm21000000 = time.time()\n",
        "\n",
        "g2o = fimm21000000 - iniciom21000000"
      ],
      "execution_count": null,
      "outputs": []
    },
    {
      "cell_type": "markdown",
      "metadata": {
        "id": "4KZGn2kGOkYj"
      },
      "source": [
        "Ordenando listas inversas com MergeSort"
      ]
    },
    {
      "cell_type": "code",
      "metadata": {
        "id": "aVGDYF2QOn81"
      },
      "source": [
        "import time\n",
        "\n",
        "iniciom310 = time.time()\n",
        "merge(g3_M1_10)\n",
        "fimm310 = time.time()\n",
        "\n",
        "g3k = fimm310 - iniciom310\n",
        "\n",
        "iniciom3100 = time.time()\n",
        "merge(g3_M1_100)\n",
        "fimm3100 = time.time()\n",
        "\n",
        "g3l = fimm3100 - iniciom3100\n",
        "\n",
        "iniciom310000 = time.time()\n",
        "merge(g3_M1_10000)\n",
        "fimm310000 = time.time()\n",
        "\n",
        "g3m = fimm310000 - iniciom310000\n",
        "\n",
        "iniciom3100000 = time.time()\n",
        "merge(g3_M1_100000)\n",
        "fimm3100000 = time.time()\n",
        "\n",
        "g3n = fimm3100000 - iniciom3100000\n",
        "\n",
        "iniciom31000000 = time.time()\n",
        "merge(g3_M1_1000000)\n",
        "fimm31000000 = time.time()\n",
        "\n",
        "g3o = fimm31000000 - iniciom31000000"
      ],
      "execution_count": null,
      "outputs": []
    },
    {
      "cell_type": "markdown",
      "metadata": {
        "id": "B3Dnggq29P_f"
      },
      "source": [
        "Criando os arquivos ordenados com Merge:"
      ]
    },
    {
      "cell_type": "code",
      "metadata": {
        "id": "6PatqdVr9VQN"
      },
      "source": [
        "criaArquivo(g1_M1_10,'g1_10(merge)')\n",
        "criaArquivo(g1_M1_100,'g1_100(merge)')\n",
        "criaArquivo(g1_M1_10000,'g1_10000(merge)')\n",
        "criaArquivo(g1_M1_100000,'g1_100000(merge)')\n",
        "criaArquivo(g1_M1_1000000,'g1_1000000(merge)')\n",
        "criaArquivo(g2_M1_10,'g2_10(merge)')\n",
        "criaArquivo(g2_M1_100,'g2_100(merge)')\n",
        "criaArquivo(g2_M1_10000,'g2_10000(merge)')\n",
        "criaArquivo(g2_M1_100000,'g2_100000(merge)')\n",
        "criaArquivo(g2_M1_1000000,'g2_1000000(merge)')\n",
        "criaArquivo(g3_M1_10,'g3_10(merge)')\n",
        "criaArquivo(g3_M1_100,'g3_100(merge)')\n",
        "criaArquivo(g3_M1_10000,'g3_10000(merge)')\n",
        "criaArquivo(g3_M1_100000,'g3_100000(merge)')\n",
        "criaArquivo(g3_M1_1000000,'g3_1000000(merge)')"
      ],
      "execution_count": null,
      "outputs": []
    },
    {
      "cell_type": "markdown",
      "metadata": {
        "id": "nU39M4UIT6k_"
      },
      "source": [
        "#Usando Trosmit"
      ]
    },
    {
      "cell_type": "code",
      "metadata": {
        "id": "xdzkC3x6UiAj"
      },
      "source": [
        "run=50\n",
        "\n",
        "def mergeMod(lista):\n",
        "    if len(lista)>50:\n",
        "        esquerda = lista[:len(lista)//2]\n",
        "        direita = lista[len(lista)//2:]\n",
        "        merge(esquerda)\n",
        "        merge(direita)\n",
        "        topoesquerdo = 0\n",
        "        topodireito = 0\n",
        "        posicaolista = 0\n",
        "        while ((topoesquerdo < len(esquerda)) and (topodireito < len(direita))):\n",
        "            if (esquerda[topoesquerdo] < direita[topodireito]):\n",
        "                lista[posicaolista] = esquerda[topoesquerdo]\n",
        "                topoesquerdo = topoesquerdo+1\n",
        "            else:\n",
        "                lista[posicaolista] = direita[topodireito]\n",
        "                topodireito = topodireito+1\n",
        "            posicaolista = posicaolista+1\n",
        "        while (topoesquerdo < len(esquerda)):\n",
        "            lista[posicaolista] = esquerda[topoesquerdo]\n",
        "            topoesquerdo = topoesquerdo+1\n",
        "            posicaolista = posicaolista+1\n",
        "        while (topodireito < len(direita)):\n",
        "            lista[posicaolista] = direita[topodireito]\n",
        "            topodireito = topodireito+1\n",
        "            posicaolista = posicaolista+1\n",
        "\n",
        "def trosmit(lista):\n",
        "  for i in range(0,len(lista),run):\n",
        "    listaord=lista[i:i+run]\n",
        "    insercao(listaord)\n",
        "    w=i\n",
        "    for j in listaord:\n",
        "      lista[w]=j\n",
        "      w+=1\n",
        "  mergeMod(lista)"
      ],
      "execution_count": null,
      "outputs": []
    },
    {
      "cell_type": "markdown",
      "metadata": {
        "id": "BeKPMrj9_fZt"
      },
      "source": [
        "Ordenando listas desordenadas com Trosmit"
      ]
    },
    {
      "cell_type": "code",
      "metadata": {
        "id": "tGIgFZzjypiA"
      },
      "source": [
        "import time\n",
        "\n",
        "iniciop110 = time.time()\n",
        "trosmit(g1_P1_10)\n",
        "fimp110 = time.time()\n",
        "\n",
        "g1p = fimp110 - iniciop110\n",
        "\n",
        "iniciop1100 = time.time()\n",
        "trosmit(g1_P1_100)\n",
        "fimp1100 = time.time()\n",
        "\n",
        "g1q = fimp110 - iniciop110\n",
        "\n",
        "iniciop110000 = time.time()\n",
        "trosmit(g1_P1_10000)\n",
        "fimp110000 = time.time()\n",
        "\n",
        "g1r = fimp110000 - iniciop110000\n",
        "\n",
        "iniciop1100000 = time.time()\n",
        "trosmit(g1_P1_100000)\n",
        "fimp1100000 = time.time()\n",
        "\n",
        "g1s = fimp1100000 - iniciop1100000\n",
        "\n",
        "iniciop11000000 = time.time()\n",
        "trosmit(g1_P1_1000000)\n",
        "fimp11000000 = time.time()\n",
        "\n",
        "g1t = fimp11000000 - iniciop11000000"
      ],
      "execution_count": null,
      "outputs": []
    },
    {
      "cell_type": "markdown",
      "metadata": {
        "id": "Icq-6rfZ_k9K"
      },
      "source": [
        "Ordenando lista ordenadas com Trosmit"
      ]
    },
    {
      "cell_type": "code",
      "metadata": {
        "id": "Bu54b-BMzIN0"
      },
      "source": [
        "import time\n",
        "\n",
        "iniciop210 = time.time()\n",
        "trosmit(g2_P1_10)\n",
        "fimp210 = time.time()\n",
        "\n",
        "g2p = fimp210 - iniciop210\n",
        "\n",
        "iniciop2100 = time.time()\n",
        "trosmit(g2_P1_100)\n",
        "fimp2100 = time.time()\n",
        "\n",
        "g2q = fimp2100 - iniciop2100\n",
        "\n",
        "iniciop210000 = time.time()\n",
        "trosmit(g2_P1_10000)\n",
        "fimp210000 = time.time()\n",
        "\n",
        "g2r = fimp210000 - iniciop210000\n",
        "\n",
        "iniciop2100000 = time.time()\n",
        "trosmit(g2_P1_100000)\n",
        "fimp2100000 = time.time()\n",
        "\n",
        "g2s = fimp2100000 - iniciop2100000\n",
        "\n",
        "iniciop21000000 = time.time()\n",
        "trosmit(g2_P1_1000000)\n",
        "fimp21000000 = time.time()\n",
        "\n",
        "g2t = fimp21000000 - iniciop21000000"
      ],
      "execution_count": null,
      "outputs": []
    },
    {
      "cell_type": "markdown",
      "metadata": {
        "id": "cG9JNjh6_oYU"
      },
      "source": [
        "Ordenando listas inversamente ordenadas com Trosmit"
      ]
    },
    {
      "cell_type": "code",
      "metadata": {
        "id": "3B2dYXqozI-d"
      },
      "source": [
        "import time\n",
        "\n",
        "iniciop310 = time.time()\n",
        "trosmit(g3_P1_10)\n",
        "fimp310 = time.time()\n",
        "\n",
        "g3p = fimp310 - iniciop310\n",
        "\n",
        "iniciop3100 = time.time()\n",
        "trosmit(g3_P1_100)\n",
        "fimp3100 = time.time()\n",
        "\n",
        "g3q = fimp3100 - iniciop3100\n",
        "\n",
        "iniciop310000 = time.time()\n",
        "trosmit(g3_P1_10000)\n",
        "fimp310000 = time.time()\n",
        "\n",
        "g3r = fimp310000 - iniciop310000\n",
        "\n",
        "iniciop3100000 = time.time()\n",
        "trosmit(g3_P1_100000)\n",
        "fimp3100000 = time.time()\n",
        "\n",
        "g3s = fimp3100000 - iniciop3100000\n",
        "\n",
        "iniciop31000000 = time.time()\n",
        "trosmit(g3_P1_1000000)\n",
        "fimp31000000 = time.time()\n",
        "\n",
        "g3t = fimp31000000 - iniciop31000000"
      ],
      "execution_count": null,
      "outputs": []
    },
    {
      "cell_type": "markdown",
      "metadata": {
        "id": "1hgvYV5u97NB"
      },
      "source": [
        "Criando os arquivos ordenados com TrosmitSort:"
      ]
    },
    {
      "cell_type": "code",
      "metadata": {
        "id": "duAN_qXv9_hd"
      },
      "source": [
        "criaArquivo(g1_P1_10,'g1_10(trosmitSort)')\n",
        "criaArquivo(g1_P1_100,'g1_100(trosmitSort)')\n",
        "criaArquivo(g1_P1_10000,'g1_10000(trosmitSort)')\n",
        "criaArquivo(g1_P1_100000,'g1_100000(trosmitSort)')\n",
        "criaArquivo(g1_P1_1000000,'g1_1000000(trosmitSort)')\n",
        "criaArquivo(g2_P1_10,'g2_10(trosmitSort)')\n",
        "criaArquivo(g2_P1_100,'g2_100(trosmitSort)')\n",
        "criaArquivo(g2_P1_10000,'g2_10000(trosmitSort)')\n",
        "criaArquivo(g2_P1_100000,'g2_100000(trosmitSort)')\n",
        "criaArquivo(g2_P1_1000000,'g2_1000000(trosmitSort)')\n",
        "criaArquivo(g3_P1_10,'g3_10(trosmitSort)')\n",
        "criaArquivo(g3_P1_100,'g3_100(trosmitSort)')\n",
        "criaArquivo(g3_P1_10000,'g3_10000(trosmitSort)')\n",
        "criaArquivo(g3_P1_100000,'g3_100000(trosmitSort)')\n",
        "criaArquivo(g3_P1_1000000,'g3_1000000(trosmitSort)')"
      ],
      "execution_count": null,
      "outputs": []
    },
    {
      "cell_type": "markdown",
      "metadata": {
        "id": "Hg5_yswaz0Wm"
      },
      "source": [
        "#Gráficos"
      ]
    },
    {
      "cell_type": "markdown",
      "metadata": {
        "id": "Y_4f4OO1kFR_"
      },
      "source": [
        "GRAFICO DO GRUPO 1:"
      ]
    },
    {
      "cell_type": "code",
      "metadata": {
        "colab": {
          "base_uri": "https://localhost:8080/",
          "height": 295
        },
        "id": "TPb7UKaAVgqt",
        "outputId": "3cca9ec4-13d3-4b66-d9a5-0cc64af15748"
      },
      "source": [
        "from pylab import plot, show, legend, title, xlabel, ylabel\n",
        "\n",
        "meses = ['10', '100', '10000','100000','1000000']\n",
        "TS = [g1a,g1b,g1c,g1d,g1e]\n",
        "TI = [g1f,g1g,g1h,g1i,4404]\n",
        "TM = [g1k,g1l,g1m,g1n,g1o]\n",
        "TT = [g1p,g1q,g1r,g1s,g1t]\n",
        "plot(meses,TS,meses,TI,meses,TM,meses,TT,marker='o')\n",
        "title('GRUPO 1')\n",
        "xlabel('Tamanho das Listas')\n",
        "ylabel('Tempo em Segundos(s)')\n",
        "legend(['Sort','InsertionSort','MergeSort','TimSort'])\n",
        "show()"
      ],
      "execution_count": null,
      "outputs": [
        {
          "output_type": "display_data",
          "data": {
            "image/png": "[encoded data removed]",
            "text/plain": [
              "<Figure size 432x288 with 1 Axes>"
            ]
          },
          "metadata": {
            "tags": [],
            "needs_background": "light"
          }
        }
      ]
    },
    {
      "cell_type": "markdown",
      "metadata": {
        "id": "muJ2zlCX8_9V"
      },
      "source": [
        "Gráfico do grupo 1 sem o insertion"
      ]
    },
    {
      "cell_type": "code",
      "metadata": {
        "colab": {
          "base_uri": "https://localhost:8080/",
          "height": 295
        },
        "id": "GlOX9zZJ8ob0",
        "outputId": "a4c14c29-4a4e-4f5f-95c2-ff4161a500fb"
      },
      "source": [
        "from pylab import plot, show, legend, title, xlabel, ylabel\n",
        "\n",
        "meses = ['10', '100', '10000','100000','1000000']\n",
        "TS = [g1a,g1b,g1c,g1d,g1e]\n",
        "TI = [g1f,g1g,g1h,g1i,4440]\n",
        "TM = [g1k,g1l,g1m,g1n,g1o]\n",
        "TT = [g1p,g1q,g1r,g1s,g1t]\n",
        "plot(meses,TS,meses,TM,meses,TT,marker='o')\n",
        "title('GRUPO 1')\n",
        "xlabel('Tamanho das Listas')\n",
        "ylabel('Tempo em Segundos(s)')\n",
        "legend(['Sort','MergeSort','TimSort'])\n",
        "show()"
      ],
      "execution_count": null,
      "outputs": [
        {
          "output_type": "display_data",
          "data": {
            "image/png": "[encoded data removed]",
            "text/plain": [
              "<Figure size 432x288 with 1 Axes>"
            ]
          },
          "metadata": {
            "tags": [],
            "needs_background": "light"
          }
        }
      ]
    },
    {
      "cell_type": "markdown",
      "metadata": {
        "id": "_OWJdw5zj_tf"
      },
      "source": [
        "GRAFICO DO GRUPO 2:"
      ]
    },
    {
      "cell_type": "code",
      "metadata": {
        "id": "8OLYtKqyj_JP",
        "colab": {
          "base_uri": "https://localhost:8080/"
        },
        "outputId": "c374eee1-51f0-439b-a5cf-b2eb3094ee61"
      },
      "source": [
        "from pylab import plot, show, legend, title, xlabel, ylabel\n",
        "\n",
        "meses = ['10', '100', '10000','100000','1000000']\n",
        "TS = [g2a,g2b,g2c,g2d,g2e]\n",
        "TI = [g2f,g2g,g2h,g2i,g2j]\n",
        "TM = [g2k,g2l,g2m,g2n,g2o]\n",
        "TT = [g2p,g2q,g2r,g2s,g2t]\n",
        "plot(meses,TS,meses,TI,meses,TM,meses,TT,marker='o')\n",
        "title('GRUPO 2')\n",
        "xlabel('Tamanho das Listas')\n",
        "ylabel('Tempo em Segundos(s)')\n",
        "legend(['Sort','InsertionSort','MergeSort','TimSort'])\n",
        "show()"
      ],
      "execution_count": null,
      "outputs": [
        {
          "output_type": "display_data",
          "data": {
            "image/png": "[encoded data removed]",
            "text/plain": [
              "<Figure size 432x288 with 1 Axes>"
            ]
          },
          "metadata": {
            "tags": [],
            "needs_background": "light"
          }
        }
      ]
    },
    {
      "cell_type": "markdown",
      "metadata": {
        "id": "aEA4RIks9GhN"
      },
      "source": [
        "Gráfico do grupo 2 sem o insertion"
      ]
    },
    {
      "cell_type": "code",
      "metadata": {
        "colab": {
          "base_uri": "https://localhost:8080/"
        },
        "id": "5KzefgKV8wFm",
        "outputId": "7fd9e699-a749-4329-90d5-c3ee7ba9f0a7"
      },
      "source": [
        "from pylab import plot, show, legend, title, xlabel, ylabel\n",
        "\n",
        "meses = ['10', '100', '10000','100000','1000000']\n",
        "TS = [g2a,g2b,g2c,g2d,g2e]\n",
        "TI = [g2f,g2g,g2h,g2i,g2j]\n",
        "TM = [g2k,g2l,g2m,g2n,g2o]\n",
        "TT = [g2p,g2q,g2r,g2s,g2t]\n",
        "plot(meses,TS,meses,TM,meses,TT,marker='o')\n",
        "title('GRUPO 2')\n",
        "xlabel('Tamanho das Listas')\n",
        "ylabel('Tempo em Segundos(s)')\n",
        "legend(['Sort','MergeSort','TimSort'])\n",
        "show()"
      ],
      "execution_count": null,
      "outputs": [
        {
          "output_type": "display_data",
          "data": {
            "image/png": "[encoded data removed]",
            "text/plain": [
              "<Figure size 432x288 with 1 Axes>"
            ]
          },
          "metadata": {
            "tags": [],
            "needs_background": "light"
          }
        }
      ]
    },
    {
      "cell_type": "markdown",
      "metadata": {
        "id": "DPHCnQLZkNL5"
      },
      "source": [
        "GRAFICO DO GRUPO 3:"
      ]
    },
    {
      "cell_type": "code",
      "metadata": {
        "id": "tNuiO_1ckXVS",
        "colab": {
          "base_uri": "https://localhost:8080/",
          "height": 295
        },
        "outputId": "44b535da-b7f3-44c3-82eb-1e2b54e13da1"
      },
      "source": [
        "from pylab import plot, show, legend, title, xlabel, ylabel\n",
        "\n",
        "meses = ['10', '100', '10000','100000','1000000']\n",
        "TS = [g1a,g1b,g1c,g1d,g1e]\n",
        "TI = [g3f,g3g,g3h,g3i,54000]\n",
        "TM = [g3k,g3l,g3m,g3n,g3o]\n",
        "TT = [g3p,g3q,g3r,g3s,g3t]\n",
        "plot(meses,TS,meses,TI,meses,TM,meses,TT,marker='o')\n",
        "title('GRUPO 3')\n",
        "xlabel('Tamanho das Listas')\n",
        "ylabel('Tempo em Segundos(s)')\n",
        "legend(['Sort','InsertionSort','MergeSort','TimSort'])\n",
        "show()"
      ],
      "execution_count": null,
      "outputs": [
        {
          "output_type": "display_data",
          "data": {
            "image/png": "[encoded data removed]",
            "text/plain": [
              "<Figure size 432x288 with 1 Axes>"
            ]
          },
          "metadata": {
            "tags": [],
            "needs_background": "light"
          }
        }
      ]
    },
    {
      "cell_type": "markdown",
      "metadata": {
        "id": "a-8mCDs69Jtf"
      },
      "source": [
        "Gráfico do grupo 3 sem o insertion"
      ]
    },
    {
      "cell_type": "code",
      "metadata": {
        "colab": {
          "base_uri": "https://localhost:8080/",
          "height": 295
        },
        "id": "C0zDUB0y82f3",
        "outputId": "749bf2b8-d946-4c6d-8f07-fb1b8af04dcb"
      },
      "source": [
        "from pylab import plot, show, legend, title, xlabel, ylabel\n",
        "\n",
        "meses = ['10', '100', '10000','100000','1000000']\n",
        "TS = [g1a,g1b,g1c,g1d,g1e]\n",
        "TI = [g3f,g3g,g3h,g3i,54000]\n",
        "TM = [g3k,g3l,g3m,g3n,g3o]\n",
        "TT = [g3p,g3q,g3r,g3s,g3t]\n",
        "plot(meses,TS,meses,TM,meses,TT,marker='o')\n",
        "title('GRUPO 3')\n",
        "xlabel('Tamanho das Listas')\n",
        "ylabel('Tempo em Segundos(s)')\n",
        "legend(['Sort','MergeSort','TimSort'])\n",
        "show()"
      ],
      "execution_count": null,
      "outputs": [
        {
          "output_type": "display_data",
          "data": {
            "image/png": "[encoded data removed]",
            "text/plain": [
              "<Figure size 432x288 with 1 Axes>"
            ]
          },
          "metadata": {
            "tags": [],
            "needs_background": "light"
          }
        }
      ]
    }
  ]
}